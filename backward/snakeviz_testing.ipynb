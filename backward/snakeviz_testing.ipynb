{
 "cells": [
  {
   "cell_type": "code",
   "execution_count": 1,
   "metadata": {},
   "outputs": [
    {
     "name": "stdout",
     "output_type": "stream",
     "text": [
      "\n",
      " Loading the sample runs:  44462-44463 \n",
      "\n",
      "\n",
      " Loading the empty runs:  43868-43911 \n",
      "\n",
      "instrPars first column: \n",
      " [  3.   4.   5.   6.   7.   8.   9.  10.  11.  12.  13.  14.  15.  16.  17.  18.  19.  20.  21.  22.  23.  24.  25.  26.  27.  28.  29.  30.  31.\n",
      "  32.  33.  34.  35.  36.  37.  38.  39.  40.  41.  42.  43.  44.  45.  46.  47.  48.  49.  50.  51.  52.  53.  54.  55.  56.  57.  58.  59.  60.\n",
      "  61.  62.  63.  64.  65.  66.  67.  68.  69.  70.  71.  72.  73.  74.  75.  76.  77.  78.  79.  80.  81.  82.  83.  84.  85.  86.  87.  88.  89.\n",
      "  90.  91.  92.  93.  94.  95.  96.  97.  98.  99. 100. 101. 102. 103. 104. 105. 106. 107. 108. 109. 110. 111. 112. 113. 114. 115. 116. 117. 118.\n",
      " 119. 120. 121. 122. 123. 124. 125. 126. 127. 128. 129. 130. 131. 132. 133. 134.]\n",
      "[Spec------------------ Fit Pars---------------------Chi2 Nit]:\n",
      "\n",
      " [[  3.       0.008   18.6775 ...   9.0808   1.0906  42.    ]\n",
      " [  4.       0.0163  17.     ...   0.3807   1.0834  48.    ]\n",
      " [  5.       0.0094  17.     ...   0.2035   0.9732  35.    ]\n",
      " ...\n",
      " [132.       0.0175  17.     ...  -0.6985   0.8413  52.    ]\n",
      " [133.          nan      nan ...      nan      nan      nan]\n",
      " [134.       0.0098  17.8039 ...  -6.1788   0.9306  38.    ]]\n",
      "\n",
      "Masses:  [[140.1 195.1  72.6  27. ]] \n",
      "Mean Widths:  [17.3929 20.1904 12.5633  9.8009] \n",
      "Mean Intensity Ratios:  [0.0053 0.0844 0.1859 0.7245]\n",
      "running time:  32.14375853538513  seconds\n",
      " \n",
      "*** Profile stats marshalled to file 'C:\\\\Users\\\\guijo\\\\AppData\\\\Local\\\\Temp\\\\tmpcuxe8s6m'. \n",
      "Embedding SnakeViz in this document...\n"
     ]
    },
    {
     "data": {
      "text/html": [
       "\n",
       "<iframe id='snakeviz-80f2c38a-1ad8-11ec-878d-e753210ee821' frameborder=0 seamless width='100%' height='1000'></iframe>\n",
       "<script>document.getElementById(\"snakeviz-80f2c38a-1ad8-11ec-878d-e753210ee821\").setAttribute(\"src\", \"http://\" + document.location.hostname + \":8080/snakeviz/C%3A%5CUsers%5Cguijo%5CAppData%5CLocal%5CTemp%5Ctmpcuxe8s6m\")</script>\n"
      ],
      "text/plain": [
       "<IPython.core.display.HTML object>"
      ]
     },
     "metadata": {},
     "output_type": "display_data"
    }
   ],
   "source": [
    "%load_ext snakeviz\n",
    "%snakeviz import Final_optimized_bckwd_script"
   ]
  },
  {
   "cell_type": "code",
   "execution_count": null,
   "metadata": {},
   "outputs": [],
   "source": []
  }
 ],
 "metadata": {
  "kernelspec": {
   "display_name": "Python 3",
   "language": "python",
   "name": "python3"
  },
  "language_info": {
   "codemirror_mode": {
    "name": "ipython",
    "version": 3
   },
   "file_extension": ".py",
   "mimetype": "text/x-python",
   "name": "python",
   "nbconvert_exporter": "python",
   "pygments_lexer": "ipython3",
   "version": "3.8.3"
  }
 },
 "nbformat": 4,
 "nbformat_minor": 2
}
